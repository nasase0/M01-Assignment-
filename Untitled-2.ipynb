{
 "cells": [
  {
   "cell_type": "code",
   "execution_count": null,
   "id": "217ab069-2096-442e-8aa0-18c830d6e52d",
   "metadata": {},
   "outputs": [],
   "source": [
    "\n",
    "\n"
   ]
  },
  {
   "cell_type": "code",
   "execution_count": 10,
   "id": "144ca311-8684-45e9-981e-4434e1377c05",
   "metadata": {},
   "outputs": [
    {
     "name": "stdout",
     "output_type": "stream",
     "text": [
      "Seconds per hour:  3600\n",
      "Seconds per day:  86400\n",
      "Floating Point Division:  24.0\n",
      "Integer division result:  24\n"
     ]
    }
   ],
   "source": [
    "seconds_minute = 60\n",
    "minutes_hour = 60\n",
    "\n",
    "seconds_per_hour = seconds_minute * minutes_hour\n",
    "\n",
    "hours_day = 24\n",
    "seconds_per_day = hours_day * seconds_per_hour\n",
    "\n",
    "division_0 = seconds_per_day / seconds_per_hour\n",
    "division_1 = seconds_per_day // seconds_per_hour \n",
    "\n",
    "print(\"Seconds per hour: \", seconds_per_hour)\n",
    "print(\"Seconds per day: \", seconds_per_day)\n",
    "print(\"Floating Point Division: \", division_0)\n",
    "print(\"Integer division result: \", division_1)\n"
   ]
  },
  {
   "cell_type": "code",
   "execution_count": null,
   "id": "7d5458af-47e9-4879-862d-8762a73b54c3",
   "metadata": {},
   "outputs": [],
   "source": []
  },
  {
   "cell_type": "code",
   "execution_count": null,
   "id": "afb4ca7d-9f51-4c91-b8aa-cb52b0f4e3a7",
   "metadata": {},
   "outputs": [],
   "source": []
  }
 ],
 "metadata": {
  "kernelspec": {
   "display_name": "Python 3 (ipykernel)",
   "language": "python",
   "name": "python3"
  },
  "language_info": {
   "codemirror_mode": {
    "name": "ipython",
    "version": 3
   },
   "file_extension": ".py",
   "mimetype": "text/x-python",
   "name": "python",
   "nbconvert_exporter": "python",
   "pygments_lexer": "ipython3",
   "version": "3.11.7"
  }
 },
 "nbformat": 4,
 "nbformat_minor": 5
}
